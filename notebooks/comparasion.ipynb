{
 "cells": [
  {
   "cell_type": "code",
   "execution_count": 1,
   "id": "1b74145f-5752-4a67-b662-2f778badf2a9",
   "metadata": {},
   "outputs": [
    {
     "data": {
      "text/plain": [
       "'1.15.0'"
      ]
     },
     "execution_count": 1,
     "metadata": {},
     "output_type": "execute_result"
    }
   ],
   "source": [
    "import tensorflow as tf\n",
    "# tf.enable_eager_execution()\n",
    "import numpy as np\n",
    "import datetime\n",
    "import os\n",
    "import argparse\n",
    "import matplotlib.pyplot as plt\n",
    "import pandas as pd\n",
    "import json\n",
    "import glob\n",
    "import tqdm\n",
    "from sklearn.metrics import confusion_matrix\n",
    "from tensorflow.keras import layers, models\n",
    "from utils import *\n",
    "tf.__version__"
   ]
  },
  {
   "cell_type": "code",
   "execution_count": 2,
   "id": "c42bf569-e11c-4b93-8249-99bb5efe6e7a",
   "metadata": {},
   "outputs": [
    {
     "name": "stdout",
     "output_type": "stream",
     "text": [
      "Data info:  {'train_unlabel': 239970, 'train_label': 159979, 'validation': 85701, 'test': 85701}\n",
      "Num labeled normal:  98774\n",
      "Num labeled attack:  61205\n"
     ]
    }
   ],
   "source": [
    "data_info = {\n",
    "   \"train_unlabel\": 0, \n",
    "    \"train_label\": 0, \n",
    "    \"validation\": 0, \n",
    "    \"test\": 0\n",
    "}\n",
    "labels = ['DoS', 'Fuzzy', 'gear', 'RPM', 'Normal']\n",
    "unknown_attack = ''\n",
    "num_normal = 0\n",
    "num_attack = 0\n",
    "data_dir = '../Data/Train_0.7_Labeled_0.4/'\n",
    "for f in ['{}/{}/datainfo.txt'.format(data_dir, l) for l in labels if l is not unknown_attack]:\n",
    "    data_read = json.load(open(f))\n",
    "    for key in data_info.keys():\n",
    "        data_info[key] += data_read[key]\n",
    "    if 'Normal' in f:\n",
    "        num_normal += data_read['train_label']\n",
    "    else:\n",
    "        num_attack += data_read['train_label']\n",
    "        \n",
    "print('Data info: ', data_info)\n",
    "print('Num labeled normal: ', num_normal)\n",
    "print('Num labeled attack: ', num_attack)"
   ]
  },
  {
   "cell_type": "code",
   "execution_count": 3,
   "id": "b147b7fa-26fc-44ea-8619-38b4bf3fd093",
   "metadata": {
    "tags": []
   },
   "outputs": [
    {
     "name": "stdout",
     "output_type": "stream",
     "text": [
      "WARNING:tensorflow:From /home/thiennu/Research/IDS/AAE/utils.py:25: DatasetV1.make_one_shot_iterator (from tensorflow.python.data.ops.dataset_ops) is deprecated and will be removed in a future version.\n",
      "Instructions for updating:\n",
      "Use `for ... in dataset:` to iterate over a dataset. If using `tf.estimator`, return the `Dataset` object directly from your input function. As a last resort, you can use `tf.compat.v1.data.make_one_shot_iterator(dataset)`.\n",
      "Train unlabel:  ['../Data/Train_0.7_Labeled_0.4//DoS/train_label', '../Data/Train_0.7_Labeled_0.4//Fuzzy/train_label', '../Data/Train_0.7_Labeled_0.4//gear/train_label', '../Data/Train_0.7_Labeled_0.4//RPM/train_label', '../Data/Train_0.7_Labeled_0.4//Normal/train_label']\n",
      "Train label:  ['../Data/Train_0.7_Labeled_0.4//DoS/train_label', '../Data/Train_0.7_Labeled_0.4//Fuzzy/train_label', '../Data/Train_0.7_Labeled_0.4//gear/train_label', '../Data/Train_0.7_Labeled_0.4//RPM/train_label', '../Data/Train_0.7_Labeled_0.4//Normal/train_label']\n",
      "Validation:  ['../Data/Train_0.7_Labeled_0.4//DoS/val', '../Data/Train_0.7_Labeled_0.4//Fuzzy/val', '../Data/Train_0.7_Labeled_0.4//gear/val', '../Data/Train_0.7_Labeled_0.4//RPM/val', '../Data/Train_0.7_Labeled_0.4//Normal/val']\n"
     ]
    }
   ],
   "source": [
    "train_unlabel_paths = ['{}/{}/train_unlabel'.format(data_dir, l) for l in labels if l is not unknown_attack]\n",
    "train_label_paths = ['{}/{}/train_label'.format(data_dir, l) for l in labels if l is not unknown_attack]\n",
    "val_paths = ['{}/{}/val'.format(data_dir, l) for l in labels if l is not unknown_attack]\n",
    "test_paths = ['{}/{}/test'.format(data_dir, l) for l in labels if l is not unknown_attack]\n",
    "\n",
    "train_label = data_from_tfrecord(train_label_paths, data_info['train_label'], 1)\n",
    "validation = data_from_tfrecord(val_paths,  data_info['validation'], 1)\n",
    "test = data_from_tfrecord(test_paths, data_info['test'], 1)\n",
    "\n",
    "print('Train unlabel: ', train_label_paths)\n",
    "print('Train label: ', train_label_paths)\n",
    "print('Validation: ', val_paths)"
   ]
  },
  {
   "cell_type": "code",
   "execution_count": 4,
   "id": "51aa1b1c-8bd9-4c6b-831b-a36def384d13",
   "metadata": {},
   "outputs": [
    {
     "name": "stdout",
     "output_type": "stream",
     "text": [
      "Train:  (159979, 841) (159979,)\n",
      "Validation:  (85701, 841) (159979,)\n",
      "Test:  (85701, 841) (85701,)\n"
     ]
    }
   ],
   "source": [
    "init = tf.global_variables_initializer()\n",
    "with tf.Session(config=tf.ConfigProto(device_count={'GPU':0})) as sess:\n",
    "    X_train, y_train = data_stream(train_label, sess)\n",
    "    X_val, y_val = data_stream(validation, sess)\n",
    "    X_test, y_test = data_stream(test, sess)\n",
    "    y_train = np.argmax(y_train, axis=1)\n",
    "    y_val = np.argmax(y_val, axis=1)\n",
    "    y_test = np.argmax(y_test, axis=1)\n",
    "    print('Train: ', X_train.shape, y_train.shape)\n",
    "    print('Validation: ', X_val.shape, y_train.shape)\n",
    "    print('Test: ', X_test.shape, y_test.shape)"
   ]
  },
  {
   "cell_type": "markdown",
   "id": "77c26e39-488b-43b1-b345-b1d3c7812634",
   "metadata": {},
   "source": [
    "## SVM"
   ]
  },
  {
   "cell_type": "code",
   "execution_count": 5,
   "id": "eba8c31a-f025-4dbb-8719-0ebc0d344658",
   "metadata": {},
   "outputs": [
    {
     "data": {
      "text/plain": [
       "SVC()"
      ]
     },
     "execution_count": 5,
     "metadata": {},
     "output_type": "execute_result"
    }
   ],
   "source": [
    "from sklearn.svm import SVC\n",
    "\n",
    "svm = SVC()\n",
    "svm.fit(X_train, y_train)"
   ]
  },
  {
   "cell_type": "code",
   "execution_count": 6,
   "id": "c7618be7-882b-4b01-ac88-d82f0f94cf23",
   "metadata": {},
   "outputs": [
    {
     "name": "stdout",
     "output_type": "stream",
     "text": [
      "32494 297\n",
      "13 52897\n",
      "False negative rate:  0.009057363300905737\n",
      "Error rate:  0.003617227336903887\n",
      "Precision:  0.9996000861352939\n",
      "Recall:  0.9909426366990942\n",
      "F1 score:  0.9952525345339827\n"
     ]
    }
   ],
   "source": [
    "y_pred = svm.predict(X_test)\n",
    "evaluate(y_test, y_pred)"
   ]
  },
  {
   "cell_type": "markdown",
   "id": "6b253b9f-6b61-4a82-94ed-548ad5a5f277",
   "metadata": {},
   "source": [
    "## Decision Tree"
   ]
  },
  {
   "cell_type": "code",
   "execution_count": 7,
   "id": "720bbdf2-09b8-4a3a-8e6a-fd5d73178454",
   "metadata": {},
   "outputs": [
    {
     "data": {
      "text/plain": [
       "DecisionTreeClassifier(random_state=0)"
      ]
     },
     "execution_count": 7,
     "metadata": {},
     "output_type": "execute_result"
    }
   ],
   "source": [
    "from sklearn.tree import DecisionTreeClassifier\n",
    "dst = DecisionTreeClassifier(random_state=0)\n",
    "dst.fit(X_train, y_train)"
   ]
  },
  {
   "cell_type": "code",
   "execution_count": 8,
   "id": "63288a7e-20df-469f-b098-e3ae8f48c817",
   "metadata": {},
   "outputs": [
    {
     "name": "stdout",
     "output_type": "stream",
     "text": [
      "30673 2118\n",
      "1391 51519\n",
      "False negative rate:  0.06459089384282272\n",
      "Error rate:  0.04094467975869593\n",
      "Precision:  0.9566180139720559\n",
      "Recall:  0.9354091061571773\n",
      "F1 score:  0.9458946881504896\n"
     ]
    }
   ],
   "source": [
    "y_pred = dst.predict(X_test)\n",
    "evaluate(y_test, y_pred)"
   ]
  },
  {
   "cell_type": "markdown",
   "id": "60e2e3e2-4f3f-4c40-92a1-b79d1b7b08c8",
   "metadata": {},
   "source": [
    "## ANN"
   ]
  },
  {
   "cell_type": "code",
   "execution_count": 9,
   "id": "eff91f6e-3a30-4bc8-9e9f-5fcb647a50d1",
   "metadata": {},
   "outputs": [
    {
     "name": "stdout",
     "output_type": "stream",
     "text": [
      "WARNING:tensorflow:From /home/thiennu/miniconda3/envs/Tensorflow1.x/lib/python3.6/site-packages/tensorflow_core/python/ops/resource_variable_ops.py:1630: calling BaseResourceVariable.__init__ (from tensorflow.python.ops.resource_variable_ops) with constraint is deprecated and will be removed in a future version.\n",
      "Instructions for updating:\n",
      "If using Keras pass *_constraint arguments to layers.\n"
     ]
    }
   ],
   "source": [
    "model = tf.keras.models.Sequential([\n",
    "  tf.keras.layers.Dense(1000, input_dim=841, activation='relu'),\n",
    "  tf.keras.layers.Dense(1000, activation='relu'),\n",
    "  tf.keras.layers.Dense(1, activation='sigmoid')\n",
    "])"
   ]
  },
  {
   "cell_type": "code",
   "execution_count": 10,
   "id": "e1933f73-b4e1-4589-a3aa-852378da58a7",
   "metadata": {},
   "outputs": [
    {
     "name": "stdout",
     "output_type": "stream",
     "text": [
      "WARNING:tensorflow:From /home/thiennu/miniconda3/envs/Tensorflow1.x/lib/python3.6/site-packages/tensorflow_core/python/ops/nn_impl.py:183: where (from tensorflow.python.ops.array_ops) is deprecated and will be removed in a future version.\n",
      "Instructions for updating:\n",
      "Use tf.where in 2.0, which has the same broadcast rule as np.where\n"
     ]
    }
   ],
   "source": [
    "model.compile(optimizer='adam',\n",
    "              loss= 'binary_crossentropy',\n",
    "              metrics=['accuracy'])"
   ]
  },
  {
   "cell_type": "code",
   "execution_count": 11,
   "id": "a7ef884a-af37-4dc8-9a60-eb25b28ed2b4",
   "metadata": {
    "collapsed": true,
    "jupyter": {
     "outputs_hidden": true
    },
    "tags": []
   },
   "outputs": [
    {
     "name": "stdout",
     "output_type": "stream",
     "text": [
      "Train on 159979 samples, validate on 85701 samples\n",
      "Epoch 1/200\n",
      "159979/159979 [==============================] - 7s 41us/sample - loss: 0.0525 - acc: 0.9822 - val_loss: 0.0200 - val_acc: 0.9948\n",
      "Epoch 2/200\n",
      "159979/159979 [==============================] - 5s 30us/sample - loss: 0.0216 - acc: 0.9935 - val_loss: 0.0164 - val_acc: 0.9951\n",
      "Epoch 3/200\n",
      "159979/159979 [==============================] - 5s 28us/sample - loss: 0.0153 - acc: 0.9953 - val_loss: 0.0176 - val_acc: 0.9951\n",
      "Epoch 4/200\n",
      "159979/159979 [==============================] - 5s 31us/sample - loss: 0.0116 - acc: 0.9965 - val_loss: 0.0235 - val_acc: 0.9939\n",
      "Epoch 5/200\n",
      "159979/159979 [==============================] - 5s 29us/sample - loss: 0.0079 - acc: 0.9975 - val_loss: 0.0162 - val_acc: 0.9958\n",
      "Epoch 6/200\n",
      "159979/159979 [==============================] - 5s 29us/sample - loss: 0.0066 - acc: 0.9979 - val_loss: 0.0137 - val_acc: 0.9964\n",
      "Epoch 7/200\n",
      "159979/159979 [==============================] - 5s 29us/sample - loss: 0.0056 - acc: 0.9982 - val_loss: 0.0208 - val_acc: 0.9956\n",
      "Epoch 8/200\n",
      "159979/159979 [==============================] - 5s 29us/sample - loss: 0.0046 - acc: 0.9983 - val_loss: 0.0232 - val_acc: 0.9953\n",
      "Epoch 9/200\n",
      "159979/159979 [==============================] - 5s 29us/sample - loss: 0.0045 - acc: 0.9985 - val_loss: 0.0167 - val_acc: 0.9964\n",
      "Epoch 10/200\n",
      "159979/159979 [==============================] - 4s 28us/sample - loss: 0.0031 - acc: 0.9989 - val_loss: 0.0284 - val_acc: 0.9941\n",
      "Epoch 11/200\n",
      "159979/159979 [==============================] - 5s 29us/sample - loss: 0.0032 - acc: 0.9990 - val_loss: 0.0200 - val_acc: 0.9964\n",
      "Epoch 12/200\n",
      "159979/159979 [==============================] - 5s 29us/sample - loss: 0.0026 - acc: 0.9991 - val_loss: 0.0277 - val_acc: 0.9951\n",
      "Epoch 13/200\n",
      "159979/159979 [==============================] - 5s 28us/sample - loss: 0.0028 - acc: 0.9991 - val_loss: 0.0188 - val_acc: 0.9967\n",
      "Epoch 14/200\n",
      "159979/159979 [==============================] - 5s 30us/sample - loss: 0.0026 - acc: 0.9991 - val_loss: 0.0200 - val_acc: 0.9958\n",
      "Epoch 15/200\n",
      "159979/159979 [==============================] - 5s 30us/sample - loss: 0.0022 - acc: 0.9993 - val_loss: 0.0166 - val_acc: 0.9970\n",
      "Epoch 16/200\n",
      "159979/159979 [==============================] - 5s 29us/sample - loss: 0.0017 - acc: 0.9994 - val_loss: 0.0206 - val_acc: 0.9967\n",
      "Epoch 17/200\n",
      "159979/159979 [==============================] - 5s 30us/sample - loss: 0.0020 - acc: 0.9993 - val_loss: 0.0367 - val_acc: 0.9944\n",
      "Epoch 18/200\n",
      "159979/159979 [==============================] - 5s 30us/sample - loss: 0.0019 - acc: 0.9994 - val_loss: 0.0390 - val_acc: 0.9943\n",
      "Epoch 19/200\n",
      "159979/159979 [==============================] - 5s 28us/sample - loss: 0.0019 - acc: 0.9994 - val_loss: 0.0174 - val_acc: 0.9963\n",
      "Epoch 20/200\n",
      "159979/159979 [==============================] - 5s 29us/sample - loss: 0.0021 - acc: 0.9993 - val_loss: 0.0226 - val_acc: 0.9963\n",
      "Epoch 21/200\n",
      "159979/159979 [==============================] - 5s 29us/sample - loss: 0.0017 - acc: 0.9995 - val_loss: 0.0384 - val_acc: 0.9931\n",
      "Epoch 22/200\n",
      "159979/159979 [==============================] - 5s 29us/sample - loss: 0.0011 - acc: 0.9996 - val_loss: 0.0278 - val_acc: 0.9961\n",
      "Epoch 23/200\n",
      "159979/159979 [==============================] - 5s 29us/sample - loss: 0.0015 - acc: 0.9995 - val_loss: 0.0202 - val_acc: 0.9964\n",
      "Epoch 24/200\n",
      "159979/159979 [==============================] - 5s 29us/sample - loss: 0.0013 - acc: 0.9996 - val_loss: 0.0203 - val_acc: 0.9969\n",
      "Epoch 25/200\n",
      "159979/159979 [==============================] - 5s 29us/sample - loss: 0.0013 - acc: 0.9996 - val_loss: 0.0241 - val_acc: 0.9967\n",
      "Epoch 26/200\n",
      "159979/159979 [==============================] - 5s 29us/sample - loss: 8.9278e-04 - acc: 0.9997 - val_loss: 0.0230 - val_acc: 0.9965\n",
      "Epoch 27/200\n",
      "159979/159979 [==============================] - 5s 31us/sample - loss: 0.0016 - acc: 0.9996 - val_loss: 0.0200 - val_acc: 0.9971\n",
      "Epoch 28/200\n",
      "159979/159979 [==============================] - 5s 32us/sample - loss: 0.0012 - acc: 0.9997 - val_loss: 0.0214 - val_acc: 0.9965\n",
      "Epoch 29/200\n",
      "159979/159979 [==============================] - 5s 31us/sample - loss: 0.0014 - acc: 0.9996 - val_loss: 0.0264 - val_acc: 0.9962\n",
      "Epoch 30/200\n",
      "159979/159979 [==============================] - 5s 32us/sample - loss: 0.0011 - acc: 0.9997 - val_loss: 0.0262 - val_acc: 0.9962\n",
      "Epoch 31/200\n",
      "159979/159979 [==============================] - 5s 33us/sample - loss: 0.0013 - acc: 0.9996 - val_loss: 0.0226 - val_acc: 0.9964\n",
      "Epoch 32/200\n",
      "159979/159979 [==============================] - 5s 33us/sample - loss: 8.0968e-04 - acc: 0.9998 - val_loss: 0.0224 - val_acc: 0.9969\n",
      "Epoch 33/200\n",
      "159979/159979 [==============================] - 5s 34us/sample - loss: 0.0014 - acc: 0.9997 - val_loss: 0.0402 - val_acc: 0.9944\n",
      "Epoch 34/200\n",
      "159979/159979 [==============================] - 6s 35us/sample - loss: 9.7859e-04 - acc: 0.9997 - val_loss: 0.0265 - val_acc: 0.9961\n",
      "Epoch 35/200\n",
      "159979/159979 [==============================] - 6s 35us/sample - loss: 8.4625e-04 - acc: 0.9997 - val_loss: 0.0283 - val_acc: 0.9963\n",
      "Epoch 36/200\n",
      "159979/159979 [==============================] - 5s 34us/sample - loss: 7.5232e-04 - acc: 0.9998 - val_loss: 0.0251 - val_acc: 0.9969\n",
      "Epoch 37/200\n",
      "159979/159979 [==============================] - 6s 35us/sample - loss: 5.3751e-04 - acc: 0.9998 - val_loss: 0.0292 - val_acc: 0.9960\n",
      "Epoch 38/200\n",
      "159979/159979 [==============================] - 5s 31us/sample - loss: 6.7775e-04 - acc: 0.9998 - val_loss: 0.0240 - val_acc: 0.9968\n",
      "Epoch 39/200\n",
      "159979/159979 [==============================] - 5s 33us/sample - loss: 8.9380e-04 - acc: 0.9997 - val_loss: 0.0324 - val_acc: 0.9961\n",
      "Epoch 40/200\n",
      "159979/159979 [==============================] - 5s 32us/sample - loss: 6.2206e-04 - acc: 0.9998 - val_loss: 0.0280 - val_acc: 0.9965\n",
      "Epoch 41/200\n",
      "159979/159979 [==============================] - 5s 32us/sample - loss: 6.6027e-04 - acc: 0.9998 - val_loss: 0.0273 - val_acc: 0.9962\n",
      "Epoch 42/200\n",
      "159979/159979 [==============================] - 5s 32us/sample - loss: 8.1516e-04 - acc: 0.9998 - val_loss: 0.0217 - val_acc: 0.9973\n",
      "Epoch 43/200\n",
      "159979/159979 [==============================] - 6s 34us/sample - loss: 9.1328e-04 - acc: 0.9998 - val_loss: 0.0236 - val_acc: 0.9966\n",
      "Epoch 44/200\n",
      "159979/159979 [==============================] - 5s 31us/sample - loss: 6.3427e-04 - acc: 0.9998 - val_loss: 0.0314 - val_acc: 0.9965\n",
      "Epoch 45/200\n",
      "159979/159979 [==============================] - 5s 29us/sample - loss: 9.5071e-04 - acc: 0.9997 - val_loss: 0.0363 - val_acc: 0.9956\n",
      "Epoch 46/200\n",
      "159979/159979 [==============================] - 5s 31us/sample - loss: 4.1584e-04 - acc: 0.9999 - val_loss: 0.0321 - val_acc: 0.9968\n",
      "Epoch 47/200\n",
      "159979/159979 [==============================] - 5s 30us/sample - loss: 0.0010 - acc: 0.9998 - val_loss: 0.0355 - val_acc: 0.9941\n",
      "Epoch 48/200\n",
      "159979/159979 [==============================] - 5s 30us/sample - loss: 9.8419e-04 - acc: 0.9998 - val_loss: 0.0396 - val_acc: 0.9952\n",
      "Epoch 49/200\n",
      "159979/159979 [==============================] - 5s 28us/sample - loss: 4.3122e-04 - acc: 0.9999 - val_loss: 0.0282 - val_acc: 0.9965\n",
      "Epoch 50/200\n",
      "159979/159979 [==============================] - 5s 29us/sample - loss: 5.9058e-04 - acc: 0.9998 - val_loss: 0.0246 - val_acc: 0.9969\n",
      "Epoch 51/200\n",
      "159979/159979 [==============================] - 5s 30us/sample - loss: 6.9545e-04 - acc: 0.9998 - val_loss: 0.0240 - val_acc: 0.9972\n",
      "Epoch 52/200\n",
      "159979/159979 [==============================] - 5s 30us/sample - loss: 5.4556e-04 - acc: 0.9999 - val_loss: 0.0298 - val_acc: 0.9963\n",
      "Epoch 53/200\n",
      "159979/159979 [==============================] - 5s 29us/sample - loss: 4.6266e-04 - acc: 0.9999 - val_loss: 0.0396 - val_acc: 0.9952\n",
      "Epoch 54/200\n",
      "159979/159979 [==============================] - 5s 30us/sample - loss: 1.1504e-04 - acc: 1.0000 - val_loss: 0.0465 - val_acc: 0.9954\n",
      "Epoch 55/200\n",
      "159979/159979 [==============================] - 5s 33us/sample - loss: 0.0013 - acc: 0.9997 - val_loss: 0.0309 - val_acc: 0.9966\n",
      "Epoch 56/200\n",
      "159979/159979 [==============================] - 5s 32us/sample - loss: 6.2406e-04 - acc: 0.9998 - val_loss: 0.0303 - val_acc: 0.9967\n",
      "Epoch 57/200\n",
      "159979/159979 [==============================] - 5s 29us/sample - loss: 7.7338e-04 - acc: 0.9998 - val_loss: 0.0302 - val_acc: 0.9965\n",
      "Epoch 58/200\n",
      "159979/159979 [==============================] - 5s 29us/sample - loss: 2.9026e-04 - acc: 0.9999 - val_loss: 0.0390 - val_acc: 0.9967\n",
      "Epoch 59/200\n",
      "159979/159979 [==============================] - 5s 29us/sample - loss: 6.8865e-04 - acc: 0.9998 - val_loss: 0.0356 - val_acc: 0.9966\n",
      "Epoch 60/200\n",
      "159979/159979 [==============================] - 5s 29us/sample - loss: 4.2945e-04 - acc: 0.9998 - val_loss: 0.0395 - val_acc: 0.9966\n",
      "Epoch 61/200\n",
      "159979/159979 [==============================] - 5s 29us/sample - loss: 9.3843e-04 - acc: 0.9998 - val_loss: 0.0242 - val_acc: 0.9969\n",
      "Epoch 62/200\n",
      "159979/159979 [==============================] - 5s 29us/sample - loss: 5.8475e-04 - acc: 0.9998 - val_loss: 0.0312 - val_acc: 0.9969\n",
      "Epoch 63/200\n",
      "159979/159979 [==============================] - 5s 29us/sample - loss: 4.0532e-04 - acc: 0.9998 - val_loss: 0.0495 - val_acc: 0.9953\n",
      "Epoch 64/200\n",
      "159979/159979 [==============================] - 5s 29us/sample - loss: 4.9060e-04 - acc: 0.9998 - val_loss: 0.0513 - val_acc: 0.9956\n",
      "Epoch 65/200\n",
      "159979/159979 [==============================] - 5s 29us/sample - loss: 3.7434e-04 - acc: 0.9999 - val_loss: 0.0435 - val_acc: 0.9957\n",
      "Epoch 66/200\n",
      "159979/159979 [==============================] - 5s 29us/sample - loss: 2.5114e-04 - acc: 0.9999 - val_loss: 0.0371 - val_acc: 0.9965\n",
      "Epoch 67/200\n",
      "159979/159979 [==============================] - 5s 29us/sample - loss: 5.5540e-04 - acc: 0.9999 - val_loss: 0.0312 - val_acc: 0.9966\n",
      "Epoch 68/200\n",
      "159979/159979 [==============================] - 5s 29us/sample - loss: 8.3510e-04 - acc: 0.9997 - val_loss: 0.0318 - val_acc: 0.9964\n",
      "Epoch 69/200\n",
      "159979/159979 [==============================] - 5s 29us/sample - loss: 1.7322e-04 - acc: 0.9999 - val_loss: 0.0361 - val_acc: 0.9964\n",
      "Epoch 70/200\n",
      "159979/159979 [==============================] - 5s 29us/sample - loss: 4.3787e-04 - acc: 0.9999 - val_loss: 0.0684 - val_acc: 0.9949\n",
      "Epoch 71/200\n",
      "159979/159979 [==============================] - 5s 29us/sample - loss: 9.1439e-04 - acc: 0.9998 - val_loss: 0.0862 - val_acc: 0.9924\n",
      "Epoch 72/200\n",
      "159979/159979 [==============================] - 5s 29us/sample - loss: 3.2125e-04 - acc: 0.9999 - val_loss: 0.0359 - val_acc: 0.9966\n",
      "Epoch 73/200\n",
      "159979/159979 [==============================] - 5s 29us/sample - loss: 1.6322e-04 - acc: 1.0000 - val_loss: 0.0399 - val_acc: 0.9963\n",
      "Epoch 74/200\n",
      "159979/159979 [==============================] - 5s 29us/sample - loss: 6.9924e-04 - acc: 0.9998 - val_loss: 0.0253 - val_acc: 0.9966\n",
      "Epoch 75/200\n",
      "159979/159979 [==============================] - 5s 29us/sample - loss: 2.0852e-04 - acc: 0.9999 - val_loss: 0.0400 - val_acc: 0.9964\n",
      "Epoch 76/200\n",
      "159979/159979 [==============================] - 5s 29us/sample - loss: 5.1927e-04 - acc: 0.9999 - val_loss: 0.0328 - val_acc: 0.9966\n",
      "Epoch 77/200\n",
      "159979/159979 [==============================] - 5s 30us/sample - loss: 5.8121e-04 - acc: 0.9998 - val_loss: 0.0404 - val_acc: 0.9962\n",
      "Epoch 78/200\n",
      "159979/159979 [==============================] - 5s 29us/sample - loss: 1.4562e-04 - acc: 1.0000 - val_loss: 0.0406 - val_acc: 0.9967\n",
      "Epoch 79/200\n",
      "159979/159979 [==============================] - 5s 29us/sample - loss: 9.4959e-06 - acc: 1.0000 - val_loss: 0.0358 - val_acc: 0.9973\n",
      "Epoch 80/200\n",
      "159979/159979 [==============================] - 5s 29us/sample - loss: 7.5787e-04 - acc: 0.9998 - val_loss: 0.0504 - val_acc: 0.9963\n",
      "Epoch 81/200\n",
      "159979/159979 [==============================] - 5s 29us/sample - loss: 5.3581e-04 - acc: 0.9999 - val_loss: 0.0373 - val_acc: 0.9973\n",
      "Epoch 82/200\n",
      "159979/159979 [==============================] - 5s 29us/sample - loss: 1.0304e-04 - acc: 1.0000 - val_loss: 0.0573 - val_acc: 0.9962\n",
      "Epoch 83/200\n",
      "159979/159979 [==============================] - 5s 29us/sample - loss: 1.4433e-04 - acc: 0.9999 - val_loss: 0.0377 - val_acc: 0.9960\n",
      "Epoch 84/200\n",
      "159979/159979 [==============================] - 5s 29us/sample - loss: 6.7341e-04 - acc: 0.9998 - val_loss: 0.0506 - val_acc: 0.9965\n",
      "Epoch 85/200\n",
      "159979/159979 [==============================] - 5s 29us/sample - loss: 3.4852e-04 - acc: 0.9999 - val_loss: 0.0462 - val_acc: 0.9967\n",
      "Epoch 86/200\n",
      "159979/159979 [==============================] - 5s 29us/sample - loss: 4.0576e-04 - acc: 0.9999 - val_loss: 0.0361 - val_acc: 0.9965\n",
      "Epoch 87/200\n",
      "159979/159979 [==============================] - 5s 30us/sample - loss: 6.3271e-04 - acc: 0.9999 - val_loss: 0.0459 - val_acc: 0.9967\n",
      "Epoch 88/200\n",
      "159979/159979 [==============================] - 5s 29us/sample - loss: 3.0945e-04 - acc: 0.9999 - val_loss: 0.0442 - val_acc: 0.9965\n",
      "Epoch 89/200\n",
      "159979/159979 [==============================] - 5s 29us/sample - loss: 4.3806e-04 - acc: 0.9999 - val_loss: 0.0353 - val_acc: 0.9968\n",
      "Epoch 90/200\n",
      "159979/159979 [==============================] - 5s 29us/sample - loss: 6.2791e-04 - acc: 0.9999 - val_loss: 0.0462 - val_acc: 0.9963\n",
      "Epoch 91/200\n",
      "159979/159979 [==============================] - 5s 29us/sample - loss: 6.2207e-04 - acc: 0.9999 - val_loss: 0.0368 - val_acc: 0.9969\n",
      "Epoch 92/200\n",
      "159979/159979 [==============================] - 5s 31us/sample - loss: 1.2244e-04 - acc: 1.0000 - val_loss: 0.0455 - val_acc: 0.9968\n",
      "Epoch 93/200\n",
      "159979/159979 [==============================] - 5s 30us/sample - loss: 3.5097e-04 - acc: 0.9999 - val_loss: 0.0403 - val_acc: 0.9967\n",
      "Epoch 94/200\n",
      "159979/159979 [==============================] - 5s 29us/sample - loss: 5.2976e-04 - acc: 0.9998 - val_loss: 0.0465 - val_acc: 0.9960\n",
      "Epoch 95/200\n",
      "159979/159979 [==============================] - 5s 29us/sample - loss: 1.4832e-04 - acc: 1.0000 - val_loss: 0.0417 - val_acc: 0.9963\n",
      "Epoch 96/200\n",
      "159979/159979 [==============================] - 5s 30us/sample - loss: 9.4170e-06 - acc: 1.0000 - val_loss: 0.0465 - val_acc: 0.9964\n",
      "Epoch 97/200\n",
      "159979/159979 [==============================] - 5s 30us/sample - loss: 6.1843e-04 - acc: 0.9998 - val_loss: 0.0651 - val_acc: 0.9953\n",
      "Epoch 98/200\n",
      "159979/159979 [==============================] - 5s 30us/sample - loss: 7.3264e-04 - acc: 0.9998 - val_loss: 0.0322 - val_acc: 0.9969\n",
      "Epoch 99/200\n",
      "159979/159979 [==============================] - 5s 30us/sample - loss: 2.6641e-04 - acc: 0.9999 - val_loss: 0.0286 - val_acc: 0.9971\n",
      "Epoch 100/200\n",
      "159979/159979 [==============================] - 5s 30us/sample - loss: 2.3958e-04 - acc: 0.9999 - val_loss: 0.0560 - val_acc: 0.9957\n",
      "Epoch 101/200\n",
      "159979/159979 [==============================] - 5s 30us/sample - loss: 4.8684e-04 - acc: 0.9999 - val_loss: 0.0353 - val_acc: 0.9966\n",
      "Epoch 102/200\n",
      "159979/159979 [==============================] - 5s 29us/sample - loss: 1.7903e-04 - acc: 0.9999 - val_loss: 0.0350 - val_acc: 0.9971\n",
      "Epoch 103/200\n",
      "159979/159979 [==============================] - 5s 29us/sample - loss: 5.5133e-04 - acc: 0.9999 - val_loss: 0.0399 - val_acc: 0.9967\n",
      "Epoch 104/200\n",
      "159979/159979 [==============================] - 5s 30us/sample - loss: 6.2288e-04 - acc: 0.9999 - val_loss: 0.0350 - val_acc: 0.9966\n",
      "Epoch 105/200\n",
      "159979/159979 [==============================] - 5s 32us/sample - loss: 1.3577e-04 - acc: 1.0000 - val_loss: 0.0362 - val_acc: 0.9966\n",
      "Epoch 106/200\n",
      "159979/159979 [==============================] - 5s 29us/sample - loss: 2.8321e-04 - acc: 0.9999 - val_loss: 0.0325 - val_acc: 0.9969\n",
      "Epoch 107/200\n",
      "159979/159979 [==============================] - 5s 30us/sample - loss: 3.9726e-04 - acc: 0.9999 - val_loss: 0.0694 - val_acc: 0.9953\n",
      "Epoch 108/200\n",
      "159979/159979 [==============================] - 5s 29us/sample - loss: 7.6639e-05 - acc: 1.0000 - val_loss: 0.0540 - val_acc: 0.9954\n",
      "Epoch 109/200\n",
      "159979/159979 [==============================] - 5s 30us/sample - loss: 5.9325e-04 - acc: 0.9999 - val_loss: 0.0498 - val_acc: 0.9962\n",
      "Epoch 110/200\n",
      "159979/159979 [==============================] - 5s 30us/sample - loss: 5.0540e-04 - acc: 0.9999 - val_loss: 0.0372 - val_acc: 0.9967\n",
      "Epoch 111/200\n",
      "159979/159979 [==============================] - 5s 29us/sample - loss: 1.1812e-04 - acc: 1.0000 - val_loss: 0.0424 - val_acc: 0.9968\n",
      "Epoch 112/200\n",
      "159979/159979 [==============================] - 5s 31us/sample - loss: 4.5681e-04 - acc: 0.9999 - val_loss: 0.0536 - val_acc: 0.9966\n",
      "Epoch 113/200\n",
      "159979/159979 [==============================] - 5s 31us/sample - loss: 2.2277e-04 - acc: 1.0000 - val_loss: 0.0401 - val_acc: 0.9970\n",
      "Epoch 114/200\n",
      "159979/159979 [==============================] - 5s 30us/sample - loss: 3.6805e-04 - acc: 0.9999 - val_loss: 0.0556 - val_acc: 0.9967\n",
      "Epoch 115/200\n",
      "159979/159979 [==============================] - 5s 29us/sample - loss: 2.3223e-04 - acc: 0.9999 - val_loss: 0.0472 - val_acc: 0.9969\n",
      "Epoch 116/200\n",
      "159979/159979 [==============================] - 5s 30us/sample - loss: 3.4247e-04 - acc: 0.9999 - val_loss: 0.0284 - val_acc: 0.9969\n",
      "Epoch 117/200\n",
      "159979/159979 [==============================] - 5s 30us/sample - loss: 3.5910e-04 - acc: 0.9999 - val_loss: 0.1052 - val_acc: 0.9949\n",
      "Epoch 118/200\n",
      "159979/159979 [==============================] - 5s 29us/sample - loss: 4.2150e-04 - acc: 0.9999 - val_loss: 0.0645 - val_acc: 0.9964\n",
      "Epoch 119/200\n",
      "159979/159979 [==============================] - 5s 30us/sample - loss: 2.7302e-04 - acc: 0.9999 - val_loss: 0.0576 - val_acc: 0.9968\n",
      "Epoch 120/200\n",
      "159979/159979 [==============================] - 5s 30us/sample - loss: 1.6007e-06 - acc: 1.0000 - val_loss: 0.0611 - val_acc: 0.9968\n",
      "Epoch 121/200\n",
      "159979/159979 [==============================] - 5s 29us/sample - loss: 4.2922e-08 - acc: 1.0000 - val_loss: 0.0606 - val_acc: 0.9969\n",
      "Epoch 122/200\n",
      "159979/159979 [==============================] - 5s 29us/sample - loss: 1.8332e-08 - acc: 1.0000 - val_loss: 0.0613 - val_acc: 0.9969\n",
      "Epoch 123/200\n",
      "159979/159979 [==============================] - 5s 30us/sample - loss: 1.1262e-08 - acc: 1.0000 - val_loss: 0.0618 - val_acc: 0.9969\n",
      "Epoch 124/200\n",
      "159979/159979 [==============================] - 5s 29us/sample - loss: 6.6656e-09 - acc: 1.0000 - val_loss: 0.0624 - val_acc: 0.9969\n",
      "Epoch 125/200\n",
      "159979/159979 [==============================] - 5s 29us/sample - loss: 3.9141e-09 - acc: 1.0000 - val_loss: 0.0633 - val_acc: 0.9969\n",
      "Epoch 126/200\n",
      "159979/159979 [==============================] - 5s 29us/sample - loss: 2.2690e-09 - acc: 1.0000 - val_loss: 0.0642 - val_acc: 0.9969\n",
      "Epoch 127/200\n",
      "159979/159979 [==============================] - 5s 29us/sample - loss: 1.2629e-09 - acc: 1.0000 - val_loss: 0.0653 - val_acc: 0.9969\n",
      "Epoch 128/200\n",
      "159979/159979 [==============================] - 5s 29us/sample - loss: 7.0453e-10 - acc: 1.0000 - val_loss: 0.0666 - val_acc: 0.9969\n",
      "Epoch 129/200\n",
      "159979/159979 [==============================] - 5s 29us/sample - loss: 3.9692e-10 - acc: 1.0000 - val_loss: 0.0675 - val_acc: 0.9969\n",
      "Epoch 130/200\n",
      "159979/159979 [==============================] - 5s 29us/sample - loss: 2.3623e-10 - acc: 1.0000 - val_loss: 0.0688 - val_acc: 0.9969\n",
      "Epoch 131/200\n",
      "159979/159979 [==============================] - 5s 29us/sample - loss: 1.4228e-10 - acc: 1.0000 - val_loss: 0.0704 - val_acc: 0.9969\n",
      "Epoch 132/200\n",
      "159979/159979 [==============================] - 5s 29us/sample - loss: 9.0486e-11 - acc: 1.0000 - val_loss: 0.0719 - val_acc: 0.9968\n",
      "Epoch 133/200\n",
      "159979/159979 [==============================] - 5s 29us/sample - loss: 6.1591e-11 - acc: 1.0000 - val_loss: 0.0728 - val_acc: 0.9969\n",
      "Epoch 134/200\n",
      "159979/159979 [==============================] - 5s 29us/sample - loss: 4.3332e-11 - acc: 1.0000 - val_loss: 0.0739 - val_acc: 0.9968\n",
      "Epoch 135/200\n",
      "159979/159979 [==============================] - 5s 29us/sample - loss: 3.2046e-11 - acc: 1.0000 - val_loss: 0.0754 - val_acc: 0.9968\n",
      "Epoch 136/200\n",
      "159979/159979 [==============================] - 5s 29us/sample - loss: 2.6379e-11 - acc: 1.0000 - val_loss: 0.0760 - val_acc: 0.9968\n",
      "Epoch 137/200\n",
      "159979/159979 [==============================] - 5s 29us/sample - loss: 2.1671e-11 - acc: 1.0000 - val_loss: 0.0769 - val_acc: 0.9968\n",
      "Epoch 138/200\n",
      "159979/159979 [==============================] - 5s 29us/sample - loss: 1.8802e-11 - acc: 1.0000 - val_loss: 0.0772 - val_acc: 0.9968\n",
      "Epoch 139/200\n",
      "159979/159979 [==============================] - 5s 29us/sample - loss: 1.6738e-11 - acc: 1.0000 - val_loss: 0.0778 - val_acc: 0.9968\n",
      "Epoch 140/200\n",
      "159979/159979 [==============================] - 5s 29us/sample - loss: 1.5321e-11 - acc: 1.0000 - val_loss: 0.0780 - val_acc: 0.9968\n",
      "Epoch 141/200\n",
      "159979/159979 [==============================] - 5s 29us/sample - loss: 1.3893e-11 - acc: 1.0000 - val_loss: 0.0786 - val_acc: 0.9968\n",
      "Epoch 142/200\n",
      "159979/159979 [==============================] - 5s 30us/sample - loss: 1.2977e-11 - acc: 1.0000 - val_loss: 0.0793 - val_acc: 0.9968\n",
      "Epoch 143/200\n",
      "159979/159979 [==============================] - 5s 29us/sample - loss: 1.2683e-11 - acc: 1.0000 - val_loss: 0.0793 - val_acc: 0.9968\n",
      "Epoch 144/200\n",
      "159979/159979 [==============================] - 5s 29us/sample - loss: 1.1944e-11 - acc: 1.0000 - val_loss: 0.0798 - val_acc: 0.9968\n",
      "Epoch 145/200\n",
      "159979/159979 [==============================] - 5s 28us/sample - loss: 1.1724e-11 - acc: 1.0000 - val_loss: 0.0799 - val_acc: 0.9968\n",
      "Epoch 146/200\n",
      "159979/159979 [==============================] - 5s 30us/sample - loss: 1.1327e-11 - acc: 1.0000 - val_loss: 0.0804 - val_acc: 0.9968\n",
      "Epoch 147/200\n",
      "159979/159979 [==============================] - 5s 29us/sample - loss: 1.1101e-11 - acc: 1.0000 - val_loss: 0.0806 - val_acc: 0.9968\n",
      "Epoch 148/200\n",
      "159979/159979 [==============================] - 5s 29us/sample - loss: 1.0618e-11 - acc: 1.0000 - val_loss: 0.0806 - val_acc: 0.9968\n",
      "Epoch 149/200\n",
      "159979/159979 [==============================] - 5s 29us/sample - loss: 1.0347e-11 - acc: 1.0000 - val_loss: 0.0811 - val_acc: 0.9968\n",
      "Epoch 150/200\n",
      "159979/159979 [==============================] - 5s 29us/sample - loss: 1.0503e-11 - acc: 1.0000 - val_loss: 0.0813 - val_acc: 0.9968\n",
      "Epoch 151/200\n",
      "159979/159979 [==============================] - 5s 29us/sample - loss: 1.0372e-11 - acc: 1.0000 - val_loss: 0.0816 - val_acc: 0.9968\n",
      "Epoch 152/200\n",
      "159979/159979 [==============================] - 5s 29us/sample - loss: 1.0393e-11 - acc: 1.0000 - val_loss: 0.0817 - val_acc: 0.9968\n",
      "Epoch 153/200\n",
      "159979/159979 [==============================] - 5s 29us/sample - loss: 1.0227e-11 - acc: 1.0000 - val_loss: 0.0817 - val_acc: 0.9968\n",
      "Epoch 154/200\n",
      "159979/159979 [==============================] - 5s 29us/sample - loss: 1.0136e-11 - acc: 1.0000 - val_loss: 0.0821 - val_acc: 0.9968\n",
      "Epoch 155/200\n",
      "159979/159979 [==============================] - 5s 30us/sample - loss: 1.0360e-11 - acc: 1.0000 - val_loss: 0.0824 - val_acc: 0.9968\n",
      "Epoch 156/200\n",
      "159979/159979 [==============================] - 5s 29us/sample - loss: 1.0321e-11 - acc: 1.0000 - val_loss: 0.0825 - val_acc: 0.9968\n",
      "Epoch 157/200\n",
      "159979/159979 [==============================] - 5s 29us/sample - loss: 1.0086e-11 - acc: 1.0000 - val_loss: 0.0827 - val_acc: 0.9968\n",
      "Epoch 158/200\n",
      "159979/159979 [==============================] - 5s 29us/sample - loss: 1.0207e-11 - acc: 1.0000 - val_loss: 0.0827 - val_acc: 0.9968\n",
      "Epoch 159/200\n",
      "159979/159979 [==============================] - 5s 29us/sample - loss: 9.9893e-12 - acc: 1.0000 - val_loss: 0.0828 - val_acc: 0.9968\n",
      "Epoch 160/200\n",
      "159979/159979 [==============================] - 5s 29us/sample - loss: 1.0037e-11 - acc: 1.0000 - val_loss: 0.0831 - val_acc: 0.9968\n",
      "Epoch 161/200\n",
      "159979/159979 [==============================] - 5s 29us/sample - loss: 9.9598e-12 - acc: 1.0000 - val_loss: 0.0831 - val_acc: 0.9968\n",
      "Epoch 162/200\n",
      "159979/159979 [==============================] - 5s 29us/sample - loss: 9.9197e-12 - acc: 1.0000 - val_loss: 0.0832 - val_acc: 0.9968\n",
      "Epoch 163/200\n",
      "159979/159979 [==============================] - 5s 29us/sample - loss: 9.7872e-12 - acc: 1.0000 - val_loss: 0.0835 - val_acc: 0.9968\n",
      "Epoch 164/200\n",
      "159979/159979 [==============================] - 5s 29us/sample - loss: 9.9691e-12 - acc: 1.0000 - val_loss: 0.0836 - val_acc: 0.9968\n",
      "Epoch 165/200\n",
      "159979/159979 [==============================] - 5s 29us/sample - loss: 9.6765e-12 - acc: 1.0000 - val_loss: 0.0835 - val_acc: 0.9968\n",
      "Epoch 166/200\n",
      "159979/159979 [==============================] - 5s 29us/sample - loss: 9.7462e-12 - acc: 1.0000 - val_loss: 0.0838 - val_acc: 0.9968\n",
      "Epoch 167/200\n",
      "159979/159979 [==============================] - 5s 29us/sample - loss: 9.9387e-12 - acc: 1.0000 - val_loss: 0.0838 - val_acc: 0.9968\n",
      "Epoch 168/200\n",
      "159979/159979 [==============================] - 5s 29us/sample - loss: 9.6821e-12 - acc: 1.0000 - val_loss: 0.0840 - val_acc: 0.9968\n",
      "Epoch 169/200\n",
      "159979/159979 [==============================] - 5s 29us/sample - loss: 9.8923e-12 - acc: 1.0000 - val_loss: 0.0840 - val_acc: 0.9968\n",
      "Epoch 170/200\n",
      "159979/159979 [==============================] - 5s 29us/sample - loss: 9.8467e-12 - acc: 1.0000 - val_loss: 0.0842 - val_acc: 0.9968\n",
      "Epoch 171/200\n",
      "159979/159979 [==============================] - 5s 30us/sample - loss: 9.7867e-12 - acc: 1.0000 - val_loss: 0.0841 - val_acc: 0.9968\n",
      "Epoch 172/200\n",
      "159979/159979 [==============================] - 5s 30us/sample - loss: 9.6566e-12 - acc: 1.0000 - val_loss: 0.0844 - val_acc: 0.9968\n",
      "Epoch 173/200\n",
      "159979/159979 [==============================] - 5s 30us/sample - loss: 9.7789e-12 - acc: 1.0000 - val_loss: 0.0845 - val_acc: 0.9968\n",
      "Epoch 174/200\n",
      "159979/159979 [==============================] - 5s 29us/sample - loss: 9.7600e-12 - acc: 1.0000 - val_loss: 0.0845 - val_acc: 0.9968\n",
      "Epoch 175/200\n",
      "159979/159979 [==============================] - 5s 29us/sample - loss: 9.5802e-12 - acc: 1.0000 - val_loss: 0.0846 - val_acc: 0.9968\n",
      "Epoch 176/200\n",
      "159979/159979 [==============================] - 5s 29us/sample - loss: 9.6323e-12 - acc: 1.0000 - val_loss: 0.0848 - val_acc: 0.9968\n",
      "Epoch 177/200\n",
      "159979/159979 [==============================] - 5s 29us/sample - loss: 9.7777e-12 - acc: 1.0000 - val_loss: 0.0847 - val_acc: 0.9968\n",
      "Epoch 178/200\n",
      "159979/159979 [==============================] - 5s 31us/sample - loss: 9.6535e-12 - acc: 1.0000 - val_loss: 0.0846 - val_acc: 0.9968\n",
      "Epoch 179/200\n",
      "159979/159979 [==============================] - 5s 30us/sample - loss: 9.3765e-12 - acc: 1.0000 - val_loss: 0.0848 - val_acc: 0.9968\n",
      "Epoch 180/200\n",
      "159979/159979 [==============================] - 5s 32us/sample - loss: 9.6212e-12 - acc: 1.0000 - val_loss: 0.0850 - val_acc: 0.9968\n",
      "Epoch 181/200\n",
      "159979/159979 [==============================] - 5s 30us/sample - loss: 9.7282e-12 - acc: 1.0000 - val_loss: 0.0852 - val_acc: 0.9968\n",
      "Epoch 182/200\n",
      "159979/159979 [==============================] - 5s 29us/sample - loss: 9.5733e-12 - acc: 1.0000 - val_loss: 0.0852 - val_acc: 0.9968\n",
      "Epoch 183/200\n",
      "159979/159979 [==============================] - 5s 28us/sample - loss: 9.6598e-12 - acc: 1.0000 - val_loss: 0.0854 - val_acc: 0.9968\n",
      "Epoch 184/200\n",
      "159979/159979 [==============================] - 5s 29us/sample - loss: 9.5210e-12 - acc: 1.0000 - val_loss: 0.0853 - val_acc: 0.9968\n",
      "Epoch 185/200\n",
      "159979/159979 [==============================] - 5s 29us/sample - loss: 9.5739e-12 - acc: 1.0000 - val_loss: 0.0854 - val_acc: 0.9968\n",
      "Epoch 186/200\n",
      "159979/159979 [==============================] - 5s 28us/sample - loss: 9.4765e-12 - acc: 1.0000 - val_loss: 0.0855 - val_acc: 0.9968\n",
      "Epoch 187/200\n",
      "159979/159979 [==============================] - 5s 29us/sample - loss: 9.5898e-12 - acc: 1.0000 - val_loss: 0.0855 - val_acc: 0.9968\n",
      "Epoch 188/200\n",
      "159979/159979 [==============================] - 5s 28us/sample - loss: 9.5426e-12 - acc: 1.0000 - val_loss: 0.0857 - val_acc: 0.9968\n",
      "Epoch 189/200\n",
      "159979/159979 [==============================] - 5s 29us/sample - loss: 9.6027e-12 - acc: 1.0000 - val_loss: 0.0856 - val_acc: 0.9968\n",
      "Epoch 190/200\n",
      "159979/159979 [==============================] - 5s 30us/sample - loss: 9.4543e-12 - acc: 1.0000 - val_loss: 0.0857 - val_acc: 0.9967\n",
      "Epoch 191/200\n",
      "159979/159979 [==============================] - 5s 29us/sample - loss: 9.5101e-12 - acc: 1.0000 - val_loss: 0.0858 - val_acc: 0.9968\n",
      "Epoch 192/200\n",
      "159979/159979 [==============================] - 5s 29us/sample - loss: 9.4223e-12 - acc: 1.0000 - val_loss: 0.0856 - val_acc: 0.9968\n",
      "Epoch 193/200\n",
      "159979/159979 [==============================] - 5s 29us/sample - loss: 9.2523e-12 - acc: 1.0000 - val_loss: 0.0857 - val_acc: 0.9967\n",
      "Epoch 194/200\n",
      "159979/159979 [==============================] - 5s 29us/sample - loss: 9.4528e-12 - acc: 1.0000 - val_loss: 0.0859 - val_acc: 0.9967\n",
      "Epoch 195/200\n",
      "159979/159979 [==============================] - 5s 29us/sample - loss: 9.6087e-12 - acc: 1.0000 - val_loss: 0.0859 - val_acc: 0.9967\n",
      "Epoch 196/200\n",
      "159979/159979 [==============================] - 5s 29us/sample - loss: 9.4233e-12 - acc: 1.0000 - val_loss: 0.0860 - val_acc: 0.9967\n",
      "Epoch 197/200\n",
      "159979/159979 [==============================] - 5s 29us/sample - loss: 9.3752e-12 - acc: 1.0000 - val_loss: 0.0860 - val_acc: 0.9967\n",
      "Epoch 198/200\n",
      "159979/159979 [==============================] - 5s 29us/sample - loss: 9.4027e-12 - acc: 1.0000 - val_loss: 0.0862 - val_acc: 0.9967\n",
      "Epoch 199/200\n",
      "159979/159979 [==============================] - 5s 29us/sample - loss: 9.4807e-12 - acc: 1.0000 - val_loss: 0.0862 - val_acc: 0.9967\n",
      "Epoch 200/200\n",
      "159979/159979 [==============================] - 5s 29us/sample - loss: 9.3591e-12 - acc: 1.0000 - val_loss: 0.0863 - val_acc: 0.9967\n"
     ]
    },
    {
     "data": {
      "text/plain": [
       "<tensorflow.python.keras.callbacks.History at 0x7fb2becfae80>"
      ]
     },
     "execution_count": 11,
     "metadata": {},
     "output_type": "execute_result"
    }
   ],
   "source": [
    "model.fit(X_train, y_train, epochs=200, batch_size=100, validation_data=(X_val, y_val))"
   ]
  },
  {
   "cell_type": "code",
   "execution_count": 12,
   "id": "ebf1d55a-cbfc-4b01-967a-6f1d00ba5eb5",
   "metadata": {},
   "outputs": [
    {
     "name": "stdout",
     "output_type": "stream",
     "text": [
      "32361 430\n",
      "2 52908\n",
      "False negative rate:  0.013113354274038608\n",
      "Error rate:  0.0050407813211047715\n",
      "Precision:  0.9999382010320428\n",
      "Recall:  0.9868866457259614\n",
      "F1 score:  0.9933695552076619\n"
     ]
    }
   ],
   "source": [
    "y_pred = model.predict(X_test).flatten().astype(int)\n",
    "evaluate(y_test, y_pred)"
   ]
  }
 ],
 "metadata": {
  "kernelspec": {
   "display_name": "Python [conda env:Tensorflow1.x] *",
   "language": "python",
   "name": "conda-env-Tensorflow1.x-py"
  },
  "language_info": {
   "codemirror_mode": {
    "name": "ipython",
    "version": 3
   },
   "file_extension": ".py",
   "mimetype": "text/x-python",
   "name": "python",
   "nbconvert_exporter": "python",
   "pygments_lexer": "ipython3",
   "version": "3.6.13"
  }
 },
 "nbformat": 4,
 "nbformat_minor": 5
}
